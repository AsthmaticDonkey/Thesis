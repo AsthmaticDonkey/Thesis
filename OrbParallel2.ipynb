{
  "nbformat": 4,
  "nbformat_minor": 0,
  "metadata": {
    "colab": {
      "name": "OrbParallel2.ipynb",
      "provenance": [],
      "collapsed_sections": []
    },
    "kernelspec": {
      "name": "python3",
      "display_name": "Python 3"
    }
  },
  "cells": [
    {
      "cell_type": "code",
      "metadata": {
        "id": "1GmarYT0nFzd",
        "colab_type": "code",
        "colab": {
          "base_uri": "https://localhost:8080/",
          "height": 101
        },
        "outputId": "e9d4fd10-78ae-415a-91f7-02b3518d8f71"
      },
      "source": [
        "pip install pydicom"
      ],
      "execution_count": 1,
      "outputs": [
        {
          "output_type": "stream",
          "text": [
            "Collecting pydicom\n",
            "\u001b[?25l  Downloading https://files.pythonhosted.org/packages/fc/d5/da1fdf3b967e324ee47a7ad9553c9b94c1193b6b98afd9eeda0efb76b9f7/pydicom-1.3.0-py2.py3-none-any.whl (7.1MB)\n",
            "\u001b[K     |████████████████████████████████| 7.1MB 4.7MB/s \n",
            "\u001b[?25hInstalling collected packages: pydicom\n",
            "Successfully installed pydicom-1.3.0\n"
          ],
          "name": "stdout"
        }
      ]
    },
    {
      "cell_type": "code",
      "metadata": {
        "id": "l-HJfCtZnV_Y",
        "colab_type": "code",
        "colab": {
          "base_uri": "https://localhost:8080/",
          "height": 538
        },
        "outputId": "15bbafa8-a833-4d78-a156-97d33a25b4dd"
      },
      "source": [
        "pip install image-match"
      ],
      "execution_count": 2,
      "outputs": [
        {
          "output_type": "stream",
          "text": [
            "Collecting image-match\n",
            "  Downloading https://files.pythonhosted.org/packages/da/ed/5d16b10e6f83520205d16b434c844d749a0c4c9df5505b85f76787c887c0/image_match-1.1.2.tar.gz\n",
            "Collecting scikit-image<0.13,>=0.12 (from image-match)\n",
            "\u001b[?25l  Downloading https://files.pythonhosted.org/packages/86/d0/b0192dc9a544da90f2d9150bcd84b981c6873e42a1f752b6affb89180ad8/scikit-image-0.12.3.tar.gz (20.7MB)\n",
            "\u001b[K     |████████████████████████████████| 20.7MB 3.0MB/s \n",
            "\u001b[?25hCollecting elasticsearch<2.4,>=2.3 (from image-match)\n",
            "\u001b[?25l  Downloading https://files.pythonhosted.org/packages/c3/db/3869181ba938814d092a53ffbe2597be8597f0a4be62fc3989a82b0fa85a/elasticsearch-2.3.0-py2.py3-none-any.whl (51kB)\n",
            "\u001b[K     |████████████████████████████████| 61kB 8.7MB/s \n",
            "\u001b[?25hRequirement already satisfied: six>=1.7.3 in /usr/local/lib/python3.6/dist-packages (from scikit-image<0.13,>=0.12->image-match) (1.12.0)\n",
            "Requirement already satisfied: networkx>=1.8 in /usr/local/lib/python3.6/dist-packages (from scikit-image<0.13,>=0.12->image-match) (2.3)\n",
            "Requirement already satisfied: pillow>=2.1.0 in /usr/local/lib/python3.6/dist-packages (from scikit-image<0.13,>=0.12->image-match) (4.3.0)\n",
            "Requirement already satisfied: dask[array]>=0.5.0 in /usr/local/lib/python3.6/dist-packages (from scikit-image<0.13,>=0.12->image-match) (1.1.5)\n",
            "Requirement already satisfied: urllib3<2.0,>=1.8 in /usr/local/lib/python3.6/dist-packages (from elasticsearch<2.4,>=2.3->image-match) (1.24.3)\n",
            "Requirement already satisfied: decorator>=4.3.0 in /usr/local/lib/python3.6/dist-packages (from networkx>=1.8->scikit-image<0.13,>=0.12->image-match) (4.4.0)\n",
            "Requirement already satisfied: olefile in /usr/local/lib/python3.6/dist-packages (from pillow>=2.1.0->scikit-image<0.13,>=0.12->image-match) (0.46)\n",
            "Requirement already satisfied: numpy>=1.11.0; extra == \"array\" in /usr/local/lib/python3.6/dist-packages (from dask[array]>=0.5.0->scikit-image<0.13,>=0.12->image-match) (1.16.5)\n",
            "Requirement already satisfied: toolz>=0.7.3; extra == \"array\" in /usr/local/lib/python3.6/dist-packages (from dask[array]>=0.5.0->scikit-image<0.13,>=0.12->image-match) (0.10.0)\n",
            "Building wheels for collected packages: image-match, scikit-image\n",
            "  Building wheel for image-match (setup.py) ... \u001b[?25l\u001b[?25hdone\n",
            "  Created wheel for image-match: filename=image_match-1.1.2-cp36-none-any.whl size=21229 sha256=8d7446faba3b66d2dffa1e4b046a4ed465872dcc19a57b4df604fa15ce79bfaf\n",
            "  Stored in directory: /root/.cache/pip/wheels/31/a7/b6/cfa60a9034872415c1b49505b28f737014d77459ecb9e94e85\n",
            "  Building wheel for scikit-image (setup.py) ... \u001b[?25l\u001b[?25hdone\n",
            "  Created wheel for scikit-image: filename=scikit_image-0.12.3-cp36-cp36m-linux_x86_64.whl size=26738694 sha256=1184176cab91555ce8ad07d010a5f2660c896f0479b5380e059bcc8fc48e6a01\n",
            "  Stored in directory: /root/.cache/pip/wheels/bc/98/ff/364a64db93b1909ecc2d1e75035ec56f27b5f53b4b31527fe1\n",
            "Successfully built image-match scikit-image\n",
            "\u001b[31mERROR: albumentations 0.1.12 has requirement imgaug<0.2.7,>=0.2.5, but you'll have imgaug 0.2.9 which is incompatible.\u001b[0m\n",
            "Installing collected packages: scikit-image, elasticsearch, image-match\n",
            "  Found existing installation: scikit-image 0.15.0\n",
            "    Uninstalling scikit-image-0.15.0:\n",
            "      Successfully uninstalled scikit-image-0.15.0\n",
            "Successfully installed elasticsearch-2.3.0 image-match-1.1.2 scikit-image-0.12.3\n"
          ],
          "name": "stdout"
        }
      ]
    },
    {
      "cell_type": "code",
      "metadata": {
        "id": "LfrM4eLFnUFJ",
        "colab_type": "code",
        "colab": {
          "base_uri": "https://localhost:8080/",
          "height": 121
        },
        "outputId": "cdc6853d-e9a1-4543-ba5d-5c505c207154"
      },
      "source": [
        "from google.colab import drive\n",
        "drive.mount('/content/drive')\n",
        "from fastai import *\n",
        "from fastai.vision import *\n",
        "import matplotlib.pyplot as plt\n",
        "import matplotlib.image as mpimg\n",
        "import os\n",
        "from image_match.goldberg import ImageSignature\n",
        "import image_match\n",
        "import cv2\n",
        "import nibabel as nib\n",
        "import numpy as np\n",
        "from matplotlib import pyplot as plt, cm\n",
        "from __future__ import division\n",
        "import pydicom as DCM"
      ],
      "execution_count": 3,
      "outputs": [
        {
          "output_type": "stream",
          "text": [
            "Go to this URL in a browser: https://accounts.google.com/o/oauth2/auth?client_id=947318989803-6bn6qk8qdgf4n4g3pfee6491hc0brc4i.apps.googleusercontent.com&redirect_uri=urn%3Aietf%3Awg%3Aoauth%3A2.0%3Aoob&scope=email%20https%3A%2F%2Fwww.googleapis.com%2Fauth%2Fdocs.test%20https%3A%2F%2Fwww.googleapis.com%2Fauth%2Fdrive%20https%3A%2F%2Fwww.googleapis.com%2Fauth%2Fdrive.photos.readonly%20https%3A%2F%2Fwww.googleapis.com%2Fauth%2Fpeopleapi.readonly&response_type=code\n",
            "\n",
            "Enter your authorization code:\n",
            "··········\n",
            "Mounted at /content/drive\n"
          ],
          "name": "stdout"
        }
      ]
    },
    {
      "cell_type": "code",
      "metadata": {
        "id": "MwbS0Hb9nRxY",
        "colab_type": "code",
        "colab": {
          "base_uri": "https://localhost:8080/",
          "height": 50
        },
        "outputId": "39cc56bb-87c4-447c-bbbb-0e6841bb43f3"
      },
      "source": [
        "import logging\n",
        "import threading\n",
        "import time\n",
        "\n",
        "def thread_function(name):\n",
        "    logging.info(\"Thread %s: starting\", name)\n",
        "    \n",
        "    logging.info(\"Thread %s: finishing\", name)\n",
        "\n",
        "def dicomToPNG(ds,start, end):\n",
        "  for inum in range(start, end):\n",
        "    img1= ds.pixel_array[inum]\n",
        "    image2 = plt.imsave(('/content/drive/My Drive/ThesisData/body2/'+str(inum)+'.png'),img1)\n",
        "\n",
        "def convertOtherAxis(ds,start, end):\n",
        "  tformIm = []\n",
        "  tformArr = []\n",
        "\n",
        "  length1 = ds.pixel_array.shape[0]\n",
        "  length2 = ds.pixel_array.shape[1]\n",
        "  length3 = ds.pixel_array.shape[2]\n",
        "\n",
        "  for inti2 in range(start,end):\n",
        "    for inti1 in range(0,length1):\n",
        "      tformIm.append(ds.pixel_array[inti1][inti2])\n",
        "    tformArr.append(tformIm,inti2)\n",
        "    tformIm = []\n",
        "\n",
        "  for img in tformArr:\n",
        "    image2 = plt.imsave(('/content/drive/My Drive/ThesisData/body2/y'+str(img[1])+'.png'),img[0])\n",
        "\n",
        "\n",
        "def readPNG(arr,start, end):\n",
        "  for inum in range(start, end):\n",
        "    im1 = cv2.imread('/content/drive/My Drive/ThesisData/body2/'+str(inum)+'.png')\n",
        "    arr[inum] = im1\n",
        "\n",
        "\n",
        "marr=[]\n",
        "\n",
        "\n",
        "if __name__ == \"__main__\":\n",
        "    startt = time.time()\n",
        "    dicom_image_file_0 = DCM.read_file('/content/drive/My Drive/ThesisData/Body1.dcm')\n",
        "    num = (int) (dicom_image_file_0.pixel_array.shape[0]/200)\n",
        "    num2 = num-1\n",
        "    x = []\n",
        "    y = []\n",
        "    z = []\n",
        "    for inum in range(0,dicom_image_file_0.pixel_array.shape[0]):\n",
        "      marr.append(0)\n",
        "    \n",
        "    dest = Path('/content/drive/My Drive/ThesisData/body2')\n",
        "    dest.mkdir(parents=True, exist_ok=True)\n",
        "    import shutil\n",
        "    shutil.rmtree('/content/drive/My Drive/ThesisData/body2/')\n",
        "    dest = Path('/content/drive/My Drive/ThesisData/body2')\n",
        "    dest.mkdir(parents=True, exist_ok=True)       \n",
        "\n",
        "    for i in range(0,(num-2)):\n",
        "      start = i*200\n",
        "      end = start+200\n",
        "      if(i == (num-3)):\n",
        "        end = dicom_image_file_0.pixel_array.shape[0] -1\n",
        "      x.append(threading.Thread(target=dicomToPNG, args=(dicom_image_file_0, start,  end)))\n",
        "      x[i].start()\n",
        "\n",
        "    for i in range(0,(num-2)):\n",
        "      x[i].join()\n",
        "\n",
        "    #for i in range(0,3):\n",
        "    #  start = (int) (i*(512/4))\n",
        "    #  end = (int) ((i+1)*(512/4))\n",
        "    #  z.append(threading.Thread(target=convertOtherAxis, args=(dicom_image_file_0, start,  end)))\n",
        "    #  z[i].start()\n",
        "\n",
        "    #for i in range(0,3):\n",
        "    #  z[i].join()\n",
        "\n",
        "    for i in range(0,(num-2)):\n",
        "      start = i*200\n",
        "      end = start+200\n",
        "      if(i == (num-3)):\n",
        "        end = dicom_image_file_0.pixel_array.shape[0] -1\n",
        "      y.append(threading.Thread(target=readPNG, args=(marr, start,  end)))\n",
        "      y[i].start()\n",
        "      \n",
        "    for i in range(0,(num-2)):\n",
        "      y[i].join()\n",
        "    endt = time.time()\n",
        "    print(endt - startt)"
      ],
      "execution_count": 0,
      "outputs": [
        {
          "output_type": "stream",
          "text": [
            "/usr/local/lib/python3.6/dist-packages/pydicom/filereader.py:313: UserWarning: Expected explicit VR, but found implicit VR - using implicit VR for reading\n",
            "  warnings.warn(message, UserWarning)\n"
          ],
          "name": "stderr"
        }
      ]
    },
    {
      "cell_type": "code",
      "metadata": {
        "id": "X15meSblng81",
        "colab_type": "code",
        "colab": {}
      },
      "source": [
        "def runOrb(start, end, marr, outarr, img):\n",
        "  dicom_image_file_0 = DCM.read_file('/content/drive/My Drive/ThesisData/Body1.dcm')\n",
        "\n",
        "  # Convert the training image to RGB\n",
        "  training_image = cv2.cvtColor(img, cv2.COLOR_BGR2RGB)\n",
        "\n",
        "  # Convert the training image to gray scale\n",
        "  training_gray = cv2.cvtColor(training_image, cv2.COLOR_RGB2GRAY)\n",
        "\n",
        "  mlist = []\n",
        "  for count in range(start,end):\n",
        "    # Create test image by adding Scale Invariance and Rotational Invariance\n",
        "    test_image = marr[count]\n",
        "    #test_image = cv2.pyrDown(test_image)\n",
        "    #test_image = cv2.pyrDown(test_image)\n",
        "    num_rows, num_cols = test_image.shape[:2]\n",
        "\n",
        "\n",
        "    test_gray = cv2.cvtColor(test_image, cv2.COLOR_RGB2GRAY)\n",
        "\n",
        "    orb = cv2.ORB_create()\n",
        "\n",
        "    train_keypoints, train_descriptor = orb.detectAndCompute(training_gray, None)\n",
        "    test_keypoints, test_descriptor = orb.detectAndCompute(test_gray, None)\n",
        "\n",
        "    keypoints_without_size = np.copy(training_image)\n",
        "    keypoints_with_size = np.copy(training_image)\n",
        "\n",
        "    cv2.drawKeypoints(training_image, train_keypoints, keypoints_without_size, color = (0, 255, 0))\n",
        "\n",
        "    cv2.drawKeypoints(training_image, train_keypoints, keypoints_with_size, flags = cv2.DRAW_MATCHES_FLAGS_DRAW_RICH_KEYPOINTS)\n",
        "\n",
        "\n",
        "    # Create a Brute Force Matcher object.\n",
        "    bf = cv2.BFMatcher(cv2.NORM_HAMMING, crossCheck = True)\n",
        "\n",
        "    # Perform the matching between the ORB descriptors of the training image and the test image\n",
        "    matches = bf.match(train_descriptor, test_descriptor)\n",
        "\n",
        "    # The matches with shorter distance are the ones we want.\n",
        "    matches = sorted(matches, key = lambda x : x.distance)\n",
        "    result = cv2.drawMatches(training_image, train_keypoints, test_gray, test_keypoints, matches, test_gray, flags = 2)\n",
        "\n",
        "    outarr[count] = [marr[count], matches]"
      ],
      "execution_count": 0,
      "outputs": []
    },
    {
      "cell_type": "code",
      "metadata": {
        "id": "-mrpW_5wnkfT",
        "colab_type": "code",
        "colab": {}
      },
      "source": [
        "import logging\n",
        "import threading\n",
        "import time\n",
        "import cv2\n",
        "import matplotlib.pyplot as plt\n",
        "import numpy as np\n",
        "%matplotlib inline\n",
        "from google.colab.patches import cv2_imshow\n",
        "\n",
        "\n",
        "\n",
        "marr=[]\n",
        "\n",
        "\n",
        "if __name__ == \"__main__\":\n",
        "  \n",
        "  img = cv2.imread('/content/drive/My Drive/ThesisData/Test.png')\n",
        "  \n",
        "  numMatch = 0\n",
        "  ind2 = 0\n",
        "  ind3 = 0\n",
        "  imm = []\n",
        "\n",
        "  match = []\n",
        "  for i in range(0, dicom_image_file_0.pixel_array.shape[0]):\n",
        "    maych.append(0)\n",
        "\n",
        "  for i in range(0,(num-2)):\n",
        "    start = i*200\n",
        "    end = start+200\n",
        "    if(i == (num-3)):\n",
        "      end = dicom_image_file_0.pixel_array.shape[0] -1\n",
        "    y.append(threading.Thread(target=runOrb, args=(start,  end, marr, distances, img)))\n",
        "    y[i].start()\n",
        "  \n",
        "  for i in range(0,(num-2)):\n",
        "    y[i].join()\n",
        "\n",
        "  for i in match:\n",
        "    distances.append((len(i[1])))\n",
        "    \n",
        "  for i in distances:\n",
        "    if(i > numMatch):\n",
        "      numMatch = i\n",
        "      ind3 = ind2\n",
        "    ind2 = ind2+1\n",
        "\n",
        "\n",
        "  plots[0].set_title(image1[1]+\" image\")\n",
        "  plots[0].imshow(image1[0])\n",
        "\n",
        "  plots[1].set_title(\"Found Image\")\n",
        "  plots[1].imshow(marr[ind3])\n",
        "\n",
        "\n",
        "\n",
        "\n"
      ],
      "execution_count": 0,
      "outputs": []
    }
  ]
}