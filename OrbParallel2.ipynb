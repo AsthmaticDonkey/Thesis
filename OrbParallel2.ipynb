{
  "nbformat": 4,
  "nbformat_minor": 0,
  "metadata": {
    "colab": {
      "name": "OrbParallel2.ipynb",
      "provenance": [],
      "collapsed_sections": [],
      "include_colab_link": true
    },
    "kernelspec": {
      "name": "python3",
      "display_name": "Python 3"
    },
    "accelerator": "GPU"
  },
  "cells": [
    {
      "cell_type": "markdown",
      "metadata": {
        "id": "view-in-github",
        "colab_type": "text"
      },
      "source": [
        "<a href=\"https://colab.research.google.com/github/AsthmaticDonkey/Thesis/blob/master/OrbParallel2.ipynb\" target=\"_parent\"><img src=\"https://colab.research.google.com/assets/colab-badge.svg\" alt=\"Open In Colab\"/></a>"
      ]
    },
    {
      "cell_type": "code",
      "metadata": {
        "id": "1GmarYT0nFzd",
        "colab_type": "code",
        "outputId": "f40afbf5-f8a3-4061-dfce-5b282d001ef6",
        "colab": {
          "base_uri": "https://localhost:8080/",
          "height": 101
        }
      },
      "source": [
        "pip install pydicom"
      ],
      "execution_count": 0,
      "outputs": [
        {
          "output_type": "stream",
          "text": [
            "Collecting pydicom\n",
            "\u001b[?25l  Downloading https://files.pythonhosted.org/packages/fc/d5/da1fdf3b967e324ee47a7ad9553c9b94c1193b6b98afd9eeda0efb76b9f7/pydicom-1.3.0-py2.py3-none-any.whl (7.1MB)\n",
            "\u001b[K     |████████████████████████████████| 7.1MB 3.5MB/s \n",
            "\u001b[?25hInstalling collected packages: pydicom\n",
            "Successfully installed pydicom-1.3.0\n"
          ],
          "name": "stdout"
        }
      ]
    },
    {
      "cell_type": "code",
      "metadata": {
        "id": "l-HJfCtZnV_Y",
        "colab_type": "code",
        "outputId": "19c03e59-b15c-4f76-dd7b-b50c41ff74e7",
        "colab": {
          "base_uri": "https://localhost:8080/",
          "height": 130
        }
      },
      "source": [
        "pip install image-match"
      ],
      "execution_count": 0,
      "outputs": [
        {
          "output_type": "stream",
          "text": [
            "Collecting image-match\n",
            "  Downloading https://files.pythonhosted.org/packages/da/ed/5d16b10e6f83520205d16b434c844d749a0c4c9df5505b85f76787c887c0/image_match-1.1.2.tar.gz\n",
            "Collecting scikit-image<0.13,>=0.12 (from image-match)\n",
            "\u001b[?25l  Downloading https://files.pythonhosted.org/packages/86/d0/b0192dc9a544da90f2d9150bcd84b981c6873e42a1f752b6affb89180ad8/scikit-image-0.12.3.tar.gz (20.7MB)\n",
            "\u001b[K     |████████████████████████████████| 20.7MB 35.5MB/s \n"
          ],
          "name": "stdout"
        }
      ]
    },
    {
      "cell_type": "code",
      "metadata": {
        "id": "LfrM4eLFnUFJ",
        "colab_type": "code",
        "colab": {}
      },
      "source": [
        "from google.colab import drive\n",
        "drive.mount('/content/drive')\n",
        "from fastai import *\n",
        "from fastai.vision import *\n",
        "import matplotlib.pyplot as plt\n",
        "import matplotlib.image as mpimg\n",
        "import os\n",
        "from image_match.goldberg import ImageSignature\n",
        "import image_match\n",
        "import cv2\n",
        "import nibabel as nib\n",
        "import numpy as np\n",
        "from matplotlib import pyplot as plt, cm\n",
        "from __future__ import division\n",
        "import pydicom as DCM"
      ],
      "execution_count": 0,
      "outputs": []
    },
    {
      "cell_type": "code",
      "metadata": {
        "id": "MwbS0Hb9nRxY",
        "colab_type": "code",
        "colab": {}
      },
      "source": [
        "import logging\n",
        "import threading\n",
        "import time\n",
        "\n",
        "def thread_function(name):\n",
        "    logging.info(\"Thread %s: starting\", name)\n",
        "    \n",
        "    logging.info(\"Thread %s: finishing\", name)\n",
        "\n",
        "def dicomToPNG(ds,start, end):\n",
        "  for inum in range(start, end):\n",
        "    img1= ds.pixel_array[inum]\n",
        "    image2 = plt.imsave(('/content/drive/My Drive/ThesisData/body2/'+str(inum)+'.png'),img1)\n",
        "\n",
        "def convertOtherAxis(ds,start, end):\n",
        "  tformIm = []\n",
        "  tformArr = []\n",
        "\n",
        "  length1 = ds.pixel_array.shape[0]\n",
        "  length2 = ds.pixel_array.shape[1]\n",
        "  length3 = ds.pixel_array.shape[2]\n",
        "\n",
        "  for inti2 in range(start,end):\n",
        "    for inti1 in range(0,length1):\n",
        "      tformIm.append(ds.pixel_array[inti1][inti2])\n",
        "    tformArr.append(tformIm,inti2)\n",
        "    tformIm = []\n",
        "\n",
        "  for img in tformArr:\n",
        "    image2 = plt.imsave(('/content/drive/My Drive/ThesisData/body2/y'+str(img[1])+'.png'),img[0])\n",
        "\n",
        "\n",
        "def readPNG(arr,start, end):\n",
        "  for inum in range(start, end):\n",
        "    im1 = cv2.imread('/content/drive/My Drive/ThesisData/body2/'+str(inum)+'.png')\n",
        "    arr[inum] = im1\n",
        "\n",
        "\n",
        "marr=[]\n",
        "\n",
        "\n",
        "if __name__ == \"__main__\":\n",
        "    startt = time.time()\n",
        "    dicom_image_file_0 = DCM.read_file('/content/drive/My Drive/ThesisData/Body1.dcm')\n",
        "    num = (int) (dicom_image_file_0.pixel_array.shape[0]/200)\n",
        "    num2 = num-1\n",
        "    x = []\n",
        "    y = []\n",
        "    z = []\n",
        "    for inum in range(0,dicom_image_file_0.pixel_array.shape[0]):\n",
        "      marr.append(0)\n",
        "    \n",
        "    dest = Path('/content/drive/My Drive/ThesisData/body2')\n",
        "    dest.mkdir(parents=True, exist_ok=True)\n",
        "    import shutil\n",
        "    shutil.rmtree('/content/drive/My Drive/ThesisData/body2/')\n",
        "    dest = Path('/content/drive/My Drive/ThesisData/body2')\n",
        "    dest.mkdir(parents=True, exist_ok=True)       \n",
        "\n",
        "    for i in range(0,(num-2)):\n",
        "      start = i*200\n",
        "      end = start+200\n",
        "      if(i == (num-3)):\n",
        "        end = dicom_image_file_0.pixel_array.shape[0] -1\n",
        "      x.append(threading.Thread(target=dicomToPNG, args=(dicom_image_file_0, start,  end)))\n",
        "      x[i].start()\n",
        "\n",
        "    for i in range(0,(num-2)):\n",
        "      x[i].join()\n",
        "\n",
        "    #for i in range(0,3):\n",
        "    #  start = (int) (i*(512/4))\n",
        "    #  end = (int) ((i+1)*(512/4))\n",
        "    #  z.append(threading.Thread(target=convertOtherAxis, args=(dicom_image_file_0, start,  end)))\n",
        "    #  z[i].start()\n",
        "\n",
        "    #for i in range(0,3):\n",
        "    #  z[i].join()\n",
        "\n",
        "    for i in range(0,(num-2)):\n",
        "      start = i*200\n",
        "      end = start+200\n",
        "      if(i == (num-3)):\n",
        "        end = dicom_image_file_0.pixel_array.shape[0] -1\n",
        "      y.append(threading.Thread(target=readPNG, args=(marr, start,  end)))\n",
        "      y[i].start()\n",
        "      \n",
        "    for i in range(0,(num-2)):\n",
        "      y[i].join()\n",
        "    endt = time.time()\n",
        "    print(endt - startt)"
      ],
      "execution_count": 0,
      "outputs": []
    },
    {
      "cell_type": "code",
      "metadata": {
        "id": "X15meSblng81",
        "colab_type": "code",
        "colab": {}
      },
      "source": [
        "def runOrb(start, end, marr, outarr, img):\n",
        "  dicom_image_file_0 = DCM.read_file('/content/drive/My Drive/ThesisData/Body1.dcm')\n",
        "\n",
        "  # Convert the training image to RGB\n",
        "  training_image = cv2.cvtColor(img, cv2.COLOR_BGR2RGB)\n",
        "\n",
        "  # Convert the training image to gray scale\n",
        "  training_gray = cv2.cvtColor(training_image, cv2.COLOR_RGB2GRAY)\n",
        "\n",
        "  mlist = []\n",
        "  for count in range(start,end):\n",
        "    # Create test image by adding Scale Invariance and Rotational Invariance\n",
        "    test_image = marr[count]\n",
        "    #test_image = cv2.pyrDown(test_image)\n",
        "    #test_image = cv2.pyrDown(test_image)\n",
        "    num_rows, num_cols = test_image.shape[:2]\n",
        "\n",
        "\n",
        "    test_gray = cv2.cvtColor(test_image, cv2.COLOR_RGB2GRAY)\n",
        "\n",
        "    orb = cv2.ORB_create()\n",
        "\n",
        "    train_keypoints, train_descriptor = orb.detectAndCompute(training_gray, None)\n",
        "    test_keypoints, test_descriptor = orb.detectAndCompute(test_gray, None)\n",
        "\n",
        "    keypoints_without_size = np.copy(training_image)\n",
        "    keypoints_with_size = np.copy(training_image)\n",
        "\n",
        "    cv2.drawKeypoints(training_image, train_keypoints, keypoints_without_size, color = (0, 255, 0))\n",
        "\n",
        "    cv2.drawKeypoints(training_image, train_keypoints, keypoints_with_size, flags = cv2.DRAW_MATCHES_FLAGS_DRAW_RICH_KEYPOINTS)\n",
        "\n",
        "\n",
        "    # Create a Brute Force Matcher object.\n",
        "    bf = cv2.BFMatcher(cv2.NORM_HAMMING, crossCheck = True)\n",
        "\n",
        "    # Perform the matching between the ORB descriptors of the training image and the test image\n",
        "    matches = bf.match(train_descriptor, test_descriptor)\n",
        "\n",
        "    # The matches with shorter distance are the ones we want.\n",
        "    matches = sorted(matches, key = lambda x : x.distance)\n",
        "    result = cv2.drawMatches(training_image, train_keypoints, test_gray, test_keypoints, matches, test_gray, flags = 2)\n",
        "\n",
        "    outarr[count] = [marr[count], matches]"
      ],
      "execution_count": 0,
      "outputs": []
    },
    {
      "cell_type": "code",
      "metadata": {
        "id": "-mrpW_5wnkfT",
        "colab_type": "code",
        "colab": {}
      },
      "source": [
        "import logging\n",
        "import threading\n",
        "import time\n",
        "import cv2\n",
        "import matplotlib.pyplot as plt\n",
        "import numpy as np\n",
        "%matplotlib inline\n",
        "from google.colab.patches import cv2_imshow\n",
        "\n",
        "\n",
        "\n",
        "marr=[]\n",
        "\n",
        "\n",
        "if __name__ == \"__main__\":\n",
        "  \n",
        "  img = cv2.imread('/content/drive/My Drive/ThesisData/Test.png')\n",
        "  \n",
        "  numMatch = 0\n",
        "  ind2 = 0\n",
        "  ind3 = 0\n",
        "  imm = []\n",
        "\n",
        "  match = []\n",
        "  for i in range(0, dicom_image_file_0.pixel_array.shape[0]):\n",
        "    maych.append(0)\n",
        "\n",
        "  for i in range(0,(num-2)):\n",
        "    start = i*200\n",
        "    end = start+200\n",
        "    if(i == (num-3)):\n",
        "      end = dicom_image_file_0.pixel_array.shape[0] -1\n",
        "    y.append(threading.Thread(target=runOrb, args=(start,  end, marr, distances, img)))\n",
        "    y[i].start()\n",
        "  \n",
        "  for i in range(0,(num-2)):\n",
        "    y[i].join()\n",
        "\n",
        "  for i in match:\n",
        "    distances.append((len(i[1])))\n",
        "    \n",
        "  for i in distances:\n",
        "    if(i > numMatch):\n",
        "      numMatch = i\n",
        "      ind3 = ind2\n",
        "    ind2 = ind2+1\n",
        "\n",
        "\n",
        "  plots[0].set_title(image1[1]+\" image\")\n",
        "  plots[0].imshow(image1[0])\n",
        "\n",
        "  plots[1].set_title(\"Found Image\")\n",
        "  plots[1].imshow(marr[ind3])\n",
        "\n",
        "\n",
        "\n",
        "\n"
      ],
      "execution_count": 0,
      "outputs": []
    }
  ]
}