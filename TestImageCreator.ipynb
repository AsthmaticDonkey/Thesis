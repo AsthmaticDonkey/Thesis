{
  "nbformat": 4,
  "nbformat_minor": 0,
  "metadata": {
    "colab": {
      "name": "TestImageCreator.ipynb",
      "provenance": [],
      "collapsed_sections": [],
      "toc_visible": true,
      "include_colab_link": true
    },
    "kernelspec": {
      "name": "python3",
      "display_name": "Python 3"
    }
  },
  "cells": [
    {
      "cell_type": "markdown",
      "metadata": {
        "id": "view-in-github",
        "colab_type": "text"
      },
      "source": [
        "<a href=\"https://colab.research.google.com/github/AsthmaticDonkey/Thesis/blob/master/TestImageCreator.ipynb\" target=\"_parent\"><img src=\"https://colab.research.google.com/assets/colab-badge.svg\" alt=\"Open In Colab\"/></a>"
      ]
    },
    {
      "cell_type": "code",
      "metadata": {
        "id": "EGdluNlH_fqf",
        "colab_type": "code",
        "outputId": "67500322-ac69-4615-8ec8-6509afa2c23e",
        "colab": {
          "base_uri": "https://localhost:8080/",
          "height": 121
        }
      },
      "source": [
        "from google.colab import drive\n",
        "drive.mount('/content/drive')"
      ],
      "execution_count": 0,
      "outputs": [
        {
          "output_type": "stream",
          "text": [
            "Go to this URL in a browser: https://accounts.google.com/o/oauth2/auth?client_id=947318989803-6bn6qk8qdgf4n4g3pfee6491hc0brc4i.apps.googleusercontent.com&redirect_uri=urn%3Aietf%3Awg%3Aoauth%3A2.0%3Aoob&scope=email%20https%3A%2F%2Fwww.googleapis.com%2Fauth%2Fdocs.test%20https%3A%2F%2Fwww.googleapis.com%2Fauth%2Fdrive%20https%3A%2F%2Fwww.googleapis.com%2Fauth%2Fdrive.photos.readonly%20https%3A%2F%2Fwww.googleapis.com%2Fauth%2Fpeopleapi.readonly&response_type=code\n",
            "\n",
            "Enter your authorization code:\n",
            "··········\n",
            "Mounted at /content/drive\n"
          ],
          "name": "stdout"
        }
      ]
    },
    {
      "cell_type": "code",
      "metadata": {
        "id": "TN6RJj_dD1pp",
        "colab_type": "code",
        "outputId": "ef7a1a8e-ceed-4ca7-d322-6d2eca17afca",
        "colab": {
          "base_uri": "https://localhost:8080/",
          "height": 121
        }
      },
      "source": [
        "pip install pydicom"
      ],
      "execution_count": 0,
      "outputs": [
        {
          "output_type": "stream",
          "text": [
            "Collecting pydicom\n",
            "\u001b[?25l  Downloading https://files.pythonhosted.org/packages/fc/d5/da1fdf3b967e324ee47a7ad9553c9b94c1193b6b98afd9eeda0efb76b9f7/pydicom-1.3.0-py2.py3-none-any.whl (7.1MB)\n",
            "\u001b[K     |████████████████████████████████| 7.1MB 2.8MB/s \n",
            "\u001b[?25hInstalling collected packages: pydicom\n",
            "Successfully installed pydicom-1.3.0\n"
          ],
          "name": "stdout"
        }
      ]
    },
    {
      "cell_type": "code",
      "metadata": {
        "id": "-nUivCZdrDV6",
        "colab_type": "code",
        "outputId": "57449982-f893-4b58-f23d-09f1e54ceb5a",
        "colab": {
          "base_uri": "https://localhost:8080/",
          "height": 558
        }
      },
      "source": [
        "pip install image-match"
      ],
      "execution_count": 0,
      "outputs": [
        {
          "output_type": "stream",
          "text": [
            "Collecting image-match\n",
            "  Downloading https://files.pythonhosted.org/packages/da/ed/5d16b10e6f83520205d16b434c844d749a0c4c9df5505b85f76787c887c0/image_match-1.1.2.tar.gz\n",
            "Collecting scikit-image<0.13,>=0.12 (from image-match)\n",
            "\u001b[?25l  Downloading https://files.pythonhosted.org/packages/86/d0/b0192dc9a544da90f2d9150bcd84b981c6873e42a1f752b6affb89180ad8/scikit-image-0.12.3.tar.gz (20.7MB)\n",
            "\u001b[K     |████████████████████████████████| 20.7MB 1.8MB/s \n",
            "\u001b[?25hCollecting elasticsearch<2.4,>=2.3 (from image-match)\n",
            "\u001b[?25l  Downloading https://files.pythonhosted.org/packages/c3/db/3869181ba938814d092a53ffbe2597be8597f0a4be62fc3989a82b0fa85a/elasticsearch-2.3.0-py2.py3-none-any.whl (51kB)\n",
            "\u001b[K     |████████████████████████████████| 61kB 24.8MB/s \n",
            "\u001b[?25hRequirement already satisfied: six>=1.7.3 in /usr/local/lib/python3.6/dist-packages (from scikit-image<0.13,>=0.12->image-match) (1.12.0)\n",
            "Requirement already satisfied: networkx>=1.8 in /usr/local/lib/python3.6/dist-packages (from scikit-image<0.13,>=0.12->image-match) (2.3)\n",
            "Requirement already satisfied: pillow>=2.1.0 in /usr/local/lib/python3.6/dist-packages (from scikit-image<0.13,>=0.12->image-match) (4.3.0)\n",
            "Requirement already satisfied: dask[array]>=0.5.0 in /usr/local/lib/python3.6/dist-packages (from scikit-image<0.13,>=0.12->image-match) (1.1.5)\n",
            "Requirement already satisfied: urllib3<2.0,>=1.8 in /usr/local/lib/python3.6/dist-packages (from elasticsearch<2.4,>=2.3->image-match) (1.24.3)\n",
            "Requirement already satisfied: decorator>=4.3.0 in /usr/local/lib/python3.6/dist-packages (from networkx>=1.8->scikit-image<0.13,>=0.12->image-match) (4.4.0)\n",
            "Requirement already satisfied: olefile in /usr/local/lib/python3.6/dist-packages (from pillow>=2.1.0->scikit-image<0.13,>=0.12->image-match) (0.46)\n",
            "Requirement already satisfied: numpy>=1.11.0; extra == \"array\" in /usr/local/lib/python3.6/dist-packages (from dask[array]>=0.5.0->scikit-image<0.13,>=0.12->image-match) (1.16.5)\n",
            "Requirement already satisfied: toolz>=0.7.3; extra == \"array\" in /usr/local/lib/python3.6/dist-packages (from dask[array]>=0.5.0->scikit-image<0.13,>=0.12->image-match) (0.10.0)\n",
            "Building wheels for collected packages: image-match, scikit-image\n",
            "  Building wheel for image-match (setup.py) ... \u001b[?25l\u001b[?25hdone\n",
            "  Created wheel for image-match: filename=image_match-1.1.2-cp36-none-any.whl size=21229 sha256=623c347d556b078c7584d4db6f649e8d63a44dfa0f293045f5cac73e253927b8\n",
            "  Stored in directory: /root/.cache/pip/wheels/31/a7/b6/cfa60a9034872415c1b49505b28f737014d77459ecb9e94e85\n",
            "  Building wheel for scikit-image (setup.py) ... \u001b[?25l\u001b[?25hdone\n",
            "  Created wheel for scikit-image: filename=scikit_image-0.12.3-cp36-cp36m-linux_x86_64.whl size=26738636 sha256=de148c2ca7a21e5df05d071189bb9eb7534a7e68ae747f512c3994928dc6fcd8\n",
            "  Stored in directory: /root/.cache/pip/wheels/bc/98/ff/364a64db93b1909ecc2d1e75035ec56f27b5f53b4b31527fe1\n",
            "Successfully built image-match scikit-image\n",
            "\u001b[31mERROR: albumentations 0.1.12 has requirement imgaug<0.2.7,>=0.2.5, but you'll have imgaug 0.2.9 which is incompatible.\u001b[0m\n",
            "Installing collected packages: scikit-image, elasticsearch, image-match\n",
            "  Found existing installation: scikit-image 0.15.0\n",
            "    Uninstalling scikit-image-0.15.0:\n",
            "      Successfully uninstalled scikit-image-0.15.0\n",
            "Successfully installed elasticsearch-2.3.0 image-match-1.1.2 scikit-image-0.12.3\n"
          ],
          "name": "stdout"
        }
      ]
    },
    {
      "cell_type": "code",
      "metadata": {
        "id": "8Phz6E-__w9j",
        "colab_type": "code",
        "colab": {}
      },
      "source": [
        "import numpy as np\n",
        "from matplotlib import pyplot as plt, cm\n",
        "from __future__ import division\n",
        "import pydicom as DCM\n",
        "import cv2\n",
        "import matplotlib.pyplot as plt\n",
        "from matplotlib import pyplot as plt, cm\n",
        "import numpy as np\n",
        "import os\n",
        "import nibabel as nib\n",
        "import matplotlib.image as mpimg\n",
        "import matplotlib.colors as mcol\n",
        "%matplotlib inline"
      ],
      "execution_count": 0,
      "outputs": []
    },
    {
      "cell_type": "code",
      "metadata": {
        "id": "yT55LuGFASQs",
        "colab_type": "code",
        "outputId": "5a39986d-faba-4ec2-c2f8-a72fa7bfa68f",
        "colab": {
          "base_uri": "https://localhost:8080/",
          "height": 70
        }
      },
      "source": [
        "dicom_image_file_0 = DCM.read_file('/content/drive/My Drive/ThesisData/Body1.dcm')\n",
        "\n",
        "im2 = []\n",
        "q = 350\n",
        "c = 0\n",
        "\n",
        "for i in range(0,512):\n",
        "  im2.append(dicom_image_file_0.pixel_array[q][i])\n",
        "  c = c+1\n",
        "  if(c==7):\n",
        "    c = 0\n",
        "    q = q+1\n",
        "\n",
        "plt.imsave(\"6_34_degrees.png\",im2)\n",
        "\n",
        "\n",
        "im2 = []\n",
        "q = 350\n",
        "c = 0\n",
        "\n",
        "for i in range(0,512):\n",
        "  im2.append(dicom_image_file_0.pixel_array[q][i])\n",
        "  c = c+1\n",
        "  if(c==6):\n",
        "    c = 0\n",
        "    q = q+1\n",
        "\n",
        "plt.imsave(\"5_19_degrees.png\",im2)"
      ],
      "execution_count": 0,
      "outputs": [
        {
          "output_type": "stream",
          "text": [
            "/usr/local/lib/python3.6/dist-packages/pydicom/filereader.py:313: UserWarning: Expected explicit VR, but found implicit VR - using implicit VR for reading\n",
            "  warnings.warn(message, UserWarning)\n"
          ],
          "name": "stderr"
        }
      ]
    },
    {
      "cell_type": "code",
      "metadata": {
        "id": "G_uPQXdEr-qW",
        "colab_type": "code",
        "colab": {}
      },
      "source": [
        "dimg = []\n",
        "for filename in os.listdir(r'/content/drive/My Drive/ThesisData/body1'):\n",
        "    if filename.endswith(\".jpg\") or filename.endswith(\".png\"):\n",
        "      image1 = cv2.imread('/content/drive/My Drive/ThesisData/body1/'+filename)\n",
        "      dimg.append(image1)\n"
      ],
      "execution_count": 0,
      "outputs": []
    },
    {
      "cell_type": "markdown",
      "metadata": {
        "id": "H4sIaZS0qgeQ",
        "colab_type": "text"
      },
      "source": [
        "# Complete Match"
      ]
    },
    {
      "cell_type": "code",
      "metadata": {
        "id": "Tx_a-G3gqtyg",
        "colab_type": "code",
        "outputId": "b9de4a6b-3ed5-4d83-9193-a48cf6dba46e",
        "colab": {
          "base_uri": "https://localhost:8080/",
          "height": 34
        }
      },
      "source": [
        "from google.colab import drive\n",
        "drive.mount('/content/drive')\n",
        "from fastai import *\n",
        "from fastai.vision import *\n",
        "import matplotlib.pyplot as plt\n",
        "import matplotlib.image as mpimg\n",
        "import os\n",
        "from image_match.goldberg import ImageSignature\n",
        "import image_match\n",
        "import cv2\n",
        "import nibabel as nib\n",
        "import numpy as np\n",
        "from matplotlib import pyplot as plt, cm\n",
        "from __future__ import division\n",
        "import pydicom as DCM\n"
      ],
      "execution_count": 0,
      "outputs": [
        {
          "output_type": "stream",
          "text": [
            "Drive already mounted at /content/drive; to attempt to forcibly remount, call drive.mount(\"/content/drive\", force_remount=True).\n"
          ],
          "name": "stdout"
        }
      ]
    },
    {
      "cell_type": "code",
      "metadata": {
        "id": "6fJ9bXOIqgGW",
        "colab_type": "code",
        "outputId": "c5860671-42a0-4589-9918-05294460ac39",
        "colab": {
          "base_uri": "https://localhost:8080/",
          "height": 1000
        }
      },
      "source": [
        "import time\n",
        "\n",
        "start = time.time()\n",
        "\n",
        "\n",
        "\n",
        "dicom_image_file_0 = DCM.read_file('/content/drive/My Drive/ThesisData/Body1.dcm')\n",
        "\n",
        "img1 = dicom_image_file_0.pixel_array[350]\n",
        "\n",
        "tformIm = []\n",
        "tformArr = []\n",
        "\n",
        "length1 = dicom_image_file_0.pixel_array.shape[0]\n",
        "length2 = dicom_image_file_0.pixel_array.shape[1]\n",
        "length3 = dicom_image_file_0.pixel_array.shape[2]\n",
        "\n",
        "\n",
        "\n",
        "for inti2 in range(0,length2):\n",
        "  for inti1 in range(0,length1):\n",
        "    tformIm.append(dicom_image_file_0.pixel_array[inti1][inti2])\n",
        "  tformArr.append(tformIm)\n",
        "  tformIm = []\n",
        "\n",
        "\n",
        "inti = 0\n",
        "mlist = [] \n",
        "direction = 0\n",
        "\n",
        "testimg = []\n",
        "for filename in sorted(os.listdir(r'/content/drive/My Drive/ThesisData/testImages')):\n",
        "    if filename.endswith(\".jpg\") or filename.endswith(\".png\"):\n",
        "      image1 = cv2.imread('/content/drive/My Drive/ThesisData/testImages/'+filename)\n",
        "      testimg.append([image1, filename])\n",
        "\n",
        "for img in testimg:\n",
        "  inti = 0\n",
        "  mlist = [] \n",
        "  direction = 0\n",
        "\n",
        "  gis = ImageSignature()\n",
        "  a = gis.generate_signature((img[0]))\n",
        "  #directory = '/content/drive/My Drive/ThesisData/'\n",
        "\n",
        "  for inum in range(0, dicom_image_file_0.pixel_array.shape[0]):\n",
        "    b = gis.generate_signature(dicom_image_file_0.pixel_array[inum])\n",
        "    mlist.append([gis.normalized_distance(a, b),inum,direction])\n",
        "    if(gis.normalized_distance(a, b) == 0):\n",
        "      print('found')\n",
        "      break;\n",
        "\n",
        "  inti = 0\n",
        "  direction = 1\n",
        "  for img1 in tformIm:\n",
        "    b = gis.generate_signature(tformIm[inti])\n",
        "    mlist.append([gis.normalized_distance(a, b),inti,direction])\n",
        "    if(gis.normalized_distance(a, b) == 0):\n",
        "      print('found')\n",
        "    inti = inti+1\n",
        "\n",
        "\n",
        "  numMatch = 100\n",
        "  ind = 1\n",
        "  direc = 5\n",
        "\n",
        "  for i in mlist:\n",
        "    if(i[0] < numMatch):\n",
        "      numMatch = i[0]\n",
        "      ind = i[1]\n",
        "    direc = i[2]\n",
        "\n",
        "\n",
        "  numMatch = 100\n",
        "  ind = 1\n",
        "  direc = 5\n",
        "\n",
        "\n",
        "  for i in mlist:\n",
        "    if(i[0] < numMatch):\n",
        "      numMatch = i[0]\n",
        "      ind = i[1]\n",
        "      direc = i[2]\n",
        "\n",
        "  print(ind)\n",
        "  print(numMatch)\n",
        "  if(numMatch>0.5):\n",
        "    direc = 5;\n",
        "  print(direc)\n",
        "  print(img[1])\n",
        "\n",
        "  if(direc == 0):\n",
        "    plt.imshow(dicom_image_file_0.pixel_array[ind])\n",
        "  elif(direc == 5):\n",
        "    print(\"No Match Found\")\n",
        "\n",
        "\n",
        "end = time.time()\n",
        "print(end - start)"
      ],
      "execution_count": 0,
      "outputs": [
        {
          "output_type": "stream",
          "text": [
            "/usr/local/lib/python3.6/dist-packages/pydicom/filereader.py:313: UserWarning: Expected explicit VR, but found implicit VR - using implicit VR for reading\n",
            "  warnings.warn(message, UserWarning)\n"
          ],
          "name": "stderr"
        },
        {
          "output_type": "stream",
          "text": [
            "377\n",
            "0.2958696000777864\n",
            "0\n",
            "04_76_degrees.png\n",
            "368\n",
            "0.2845765771032462\n",
            "0\n",
            "05_19_degrees.png\n",
            "377\n",
            "0.2925634882230837\n",
            "0\n",
            "05_71_degrees.png\n",
            "368\n",
            "0.2845765771032462\n",
            "0\n",
            "06_34_degrees.png\n",
            "368\n",
            "0.2845765771032462\n",
            "0\n",
            "07_13_degrees.png\n",
            "368\n",
            "0.2845765771032462\n",
            "0\n",
            "08_1_degrees.png\n",
            "368\n",
            "0.2845765771032462\n",
            "0\n",
            "09_46_degrees.png\n",
            "346\n",
            "0.2937259016074784\n",
            "0\n",
            "0_degrees.png\n",
            "401\n",
            "0.2866738943105918\n",
            "0\n",
            "11_37_degrees.png\n",
            "417\n",
            "0.29391728569690223\n",
            "0\n",
            "14_03_degrees.png\n",
            "426\n",
            "0.3103164454170875\n",
            "0\n",
            "18_43_degrees.png\n",
            "466\n",
            "0.29917961619398226\n",
            "0\n",
            "26_57_degrees.png\n",
            "588\n",
            "0.30126198109746866\n",
            "0\n",
            "45_degrees.png\n",
            "296.5704228878021\n"
          ],
          "name": "stdout"
        },
        {
          "output_type": "display_data",
          "data": {
            "image/png": "[encoded data removed]",
            "text/plain": [
              "<Figure size 432x288 with 1 Axes>"
            ]
          },
          "metadata": {
            "tags": []
          }
        }
      ]
    }
  ]
}